{
 "cells": [
  {
   "cell_type": "markdown",
   "id": "c9d2f4d6",
   "metadata": {},
   "source": [
    "<br>\n",
    "<br>\n",
    "<center> <font size = 6> Option Pricing (Black Scholes, Binomial Model, and Monte Carlo Simulation)\n",
    "         </font> \n",
    "</center>\n",
    "<br>\n",
    "<br>\n",
    "<center> <font size = 3> Last Updated: 19/02-2023 </font> </center>"
   ]
  },
  {
   "cell_type": "markdown",
   "id": "b431d8ea",
   "metadata": {},
   "source": [
    "This notebook contains various methods for pricing options. It also contains exercises on the topic \"Options\" for Advanced Financial Engineering (42108) at DTU."
   ]
  },
  {
   "cell_type": "markdown",
   "id": "d1061b82",
   "metadata": {},
   "source": [
    "<h1><center>IMPLEMENTATION</center></h1>"
   ]
  },
  {
   "cell_type": "markdown",
   "id": "b2b90f7e",
   "metadata": {},
   "source": [
    "## Derivation of the Black-Scholes equation"
   ]
  },
  {
   "cell_type": "markdown",
   "id": "8735803a",
   "metadata": {},
   "source": [
    "To derive the governing equation, we use the classical delta-hedging argument. I used the following video to make the derivation: https://www.youtube.com/watch?v=NHvQ5CSSgw0."
   ]
  },
  {
   "cell_type": "markdown",
   "id": "45358ecc",
   "metadata": {},
   "source": [
    "Consider a portfolio $P$ which consists of one option $V_{K}(t,T)$ on the asset $S$ and a short position of $\\Delta$ times $S$. "
   ]
  },
  {
   "cell_type": "markdown",
   "id": "cb854e46",
   "metadata": {},
   "source": [
    "$$\n",
    "P = V_{K}(t, T) - \\Delta S\n",
    "$$"
   ]
  },
  {
   "cell_type": "markdown",
   "id": "cef036f8",
   "metadata": {},
   "source": [
    "Then we want to find the change in $P$ as a response to a change in $S$."
   ]
  },
  {
   "cell_type": "markdown",
   "id": "cc957935",
   "metadata": {},
   "source": [
    "$$\n",
    "\\frac{\\partial P}{\\partial S} = \\frac{\\partial V_{K}(t, T)}{\\partial S} - \\Delta \\ \\ \\ \\leftrightarrow \\ \\ \\ \\partial P = \\partial V_{K}(t, T) - \\Delta \\partial S\n",
    "$$"
   ]
  },
  {
   "cell_type": "markdown",
   "id": "83673555",
   "metadata": {},
   "source": [
    "The instantaneous change in $S$ (i.e., $\\partial S$) is governed by a geometric Brownian motion (GBM).\n",
    "\n",
    "$$\n",
    "dS = \\mu S dt + \\sigma S dW\n",
    "$$"
   ]
  },
  {
   "cell_type": "markdown",
   "id": "64612d51",
   "metadata": {},
   "source": [
    "The process $\\partial V_{K}(t, T)$ is a function of the stochastic process $S$. Hence, we can apply Itô's lemma to find the expression."
   ]
  },
  {
   "cell_type": "markdown",
   "id": "1424deae",
   "metadata": {},
   "source": [
    "\\begin{align}\n",
    "dV_{K}(t, T) &= \\frac{\\partial V_{K}(t, T)}{ \\partial t} dt + \\frac{\\partial V_{K}(t, T)}{\\partial S} dS + \\frac{1}{2} \\frac{\\partial^{2} V_{K}(t, T)}{\\partial S^{2}} dS^{2} \\\\\n",
    "&= \\frac{\\partial V_{K}(t, T)}{ \\partial t} dt + \\frac{\\partial V_{K}(t, T)}{\\partial S} dS + \\frac{1}{2} \\frac{\\partial^{2} V_{K}(t, T)}{\\partial S^{2}} (\\mu S dt + \\sigma S dW)^{2} \\\\\n",
    "&= \\frac{\\partial V_{K}(t, T)}{ \\partial t} dt + \\frac{\\partial V_{K}(t, T)}{\\partial S} dS + \\frac{1}{2} \\frac{\\partial^{2} V_{K}(t, T)}{\\partial S^{2}} (\\mu^{2} S^{2} dt^{2} + \\sigma^{2} S^{2} dW^{2} + 2 \\mu \\sigma S^{2} dt dW) \\\\\n",
    "&= \\frac{\\partial V_{K}(t, T)}{ \\partial t} dt + \\frac{\\partial V_{K}(t, T)}{\\partial S} dS + \\frac{1}{2} \\frac{\\partial^{2} V_{K}(t, T)}{\\partial S^{2}} \\sigma^{2} S^{2} dt\\\\\n",
    "\\end{align}"
   ]
  },
  {
   "cell_type": "markdown",
   "id": "06423e49",
   "metadata": {},
   "source": [
    "Then we substitute this back into the portfolio sensitivity."
   ]
  },
  {
   "cell_type": "markdown",
   "id": "846e21e2",
   "metadata": {},
   "source": [
    "\\begin{align}\n",
    "\\partial P &= \\partial V_{K}(t, T) - \\Delta \\partial S \\\\\n",
    "&= \\frac{\\partial V_{K}(t, T)}{ \\partial t} dt + \\frac{\\partial V_{K}(t, T)}{\\partial S} dS + \\frac{1}{2} \\frac{\\partial^{2} V_{K}(t, T)}{\\partial S^{2}} \\sigma^{2} S^{2} dt - \\Delta \\partial S \\\\\n",
    "&= (\\frac{\\partial V_{K}(t, T)}{ \\partial t} + \\frac{1}{2} \\frac{\\partial^{2} V_{K}(t, T)}{\\partial S^{2}} \\sigma^{2} S^{2}) dt + (\\frac{\\partial V_{K}(t, T)}{\\partial S} - \\Delta) dS\n",
    "\\end{align}"
   ]
  },
  {
   "cell_type": "markdown",
   "id": "23199c29",
   "metadata": {},
   "source": [
    "If we let $\\Delta = \\frac{\\partial V_{K}(t, T)}{\\partial S}$, then the stochastic term disappears. Therefore, the portfolio $P$ is risk-free. Hence, it should grow with the risk-free rate.\n",
    "\n",
    "$$\\frac{\\partial P}{\\partial t} = r P = r (V_{K}(t, T) - \\Delta S)$$"
   ]
  },
  {
   "cell_type": "markdown",
   "id": "5733d2d4",
   "metadata": {},
   "source": [
    "We can rephrase this.\n",
    "\n",
    "$$\n",
    "d P = r P = r (V_{K}(t, T) - \\Delta S) dt\n",
    "$$"
   ]
  },
  {
   "cell_type": "markdown",
   "id": "269479d2",
   "metadata": {},
   "source": [
    "We equate this with the portfolio sensitivity.\n",
    "\n",
    "$$\n",
    "r (V_{K}(t, T) - \\frac{\\partial V_{K}(t, T)}{\\partial S} S) dt = (\\frac{\\partial V_{K}(t, T)}{ \\partial t} + \\frac{1}{2} \\frac{\\partial^{2} V_{K}(t, T)}{\\partial S^{2}} \\sigma^{2} S^{2}) dt\n",
    "$$\n",
    "\n",
    "Then by rewriting it, we can get the equation.\n",
    "\n",
    "\\begin{align}\n",
    "r (V_{K}(t, T) - \\frac{\\partial V_{K}(t, T)}{\\partial S} S) dt &= (\\frac{\\partial V_{K}(t, T)}{ \\partial t} + \\frac{1}{2} \\frac{\\partial^{2} V_{K}(t, T)}{\\partial S^{2}} \\sigma^{2} S^{2}) dt \\\\\n",
    "r V_{K}(t, T) - r \\frac{\\partial V_{K}(t, T)}{\\partial S} S &= \\frac{\\partial V_{K}(t, T)}{ \\partial t} + \\frac{1}{2} \\frac{\\partial^{2} V_{K}(t, T)}{\\partial S^{2}} \\sigma^{2} S^{2} \\\\\n",
    "\\frac{\\partial V_{K}(t, T)}{ \\partial t} + \\frac{1}{2} \\frac{\\partial^{2} V_{K}(t, T)}{\\partial S^{2}} \\sigma^{2} S^{2} + r \\frac{\\partial V_{K}(t, T)}{\\partial S} S  - r V_{K}(t, T) &= 0 \\\\\n",
    "\\end{align}"
   ]
  },
  {
   "cell_type": "markdown",
   "id": "9eeefd4f",
   "metadata": {},
   "source": [
    "The last is known as the Black-Scholes equation."
   ]
  },
  {
   "cell_type": "markdown",
   "id": "4e6785a4",
   "metadata": {},
   "source": [
    "## Solution to the Black-Scholes equation"
   ]
  },
  {
   "cell_type": "markdown",
   "id": "2e28439f",
   "metadata": {},
   "source": [
    "It turns out that we can solve the BS equation with the following boundary conditions. Let $V_{K}(t, T)$ be replaced by $C(S, T)$, where $S$ is the stock price, and $T$ it the expiration time.\n",
    "\n",
    "\\begin{align}\n",
    "C(0, T) &= 0 \\ \\ \\forall t \\\\\n",
    "C(S, t) &= S - K \\ \\ \\text{as} \\ S \\rightarrow \\infty \\\\\n",
    "C(S, T) &= \\max\\{S-K, 0\\}\n",
    "\\end{align}"
   ]
  },
  {
   "cell_type": "markdown",
   "id": "c906e8f1",
   "metadata": {},
   "source": [
    "Let N be the CDF of the standard normal distribution. Then the solution to the Black-Scholes equation (for a call option) is"
   ]
  },
  {
   "cell_type": "markdown",
   "id": "bffba2d7",
   "metadata": {},
   "source": [
    "$$\n",
    "C_{K}(S_{t}, T) = N(d_{1}) S_{t} - N(d_{2}) K \\exp\\{-r(T-t)\\} \n",
    "$$"
   ]
  },
  {
   "cell_type": "markdown",
   "id": "73fa3a13",
   "metadata": {},
   "source": [
    "where\n",
    "\n",
    "\\begin{align}\n",
    "d_{1} &= \\frac{1}{\\sigma \\sqrt{T - t}} [\\ln(\\frac{S_{t}}{K}) + (r + \\frac{\\sigma^{2}}{2})(T - t)] \\\\\n",
    "d_{2} &= d_{1} - \\sigma \\sqrt{T - t}\n",
    "\\end{align}"
   ]
  },
  {
   "cell_type": "markdown",
   "id": "5c736d51",
   "metadata": {},
   "source": [
    "For the put option the solution is\n",
    "\n",
    "$$\n",
    "C_{K}(S_{t}, T) = -N(-d_{1}) S_{t} + N(-d_{2}) K \\exp\\{-r(T-t)\\} \n",
    "$$"
   ]
  },
  {
   "cell_type": "markdown",
   "id": "4bb74501",
   "metadata": {},
   "source": [
    "## Comparison of Analytical Solution and Monte Carlo Estimation"
   ]
  },
  {
   "cell_type": "markdown",
   "id": "b469437e",
   "metadata": {},
   "source": [
    "We start by loading the necessary packages."
   ]
  },
  {
   "cell_type": "code",
   "execution_count": 1,
   "id": "efcafbb0",
   "metadata": {},
   "outputs": [],
   "source": [
    "from tqdm import tqdm\n",
    "import numpy as np\n",
    "import math\n",
    "import pandas as pd\n",
    "import matplotlib.pyplot as plt\n",
    "from matplotlib import rc\n",
    "from scipy.stats import norm\n",
    "import time\n",
    "import numpy as np\n",
    "import math\n",
    "from scipy.stats import norm\n",
    "import datetime\n",
    "from queue import Queue\n",
    "from queue import LifoQueue\n",
    "\n",
    "class bcolors:\n",
    "    HEADER = '\\033[95m'\n",
    "    OKBLUE = '\\033[94m'\n",
    "    OKCYAN = '\\033[96m'\n",
    "    OKGREEN = '\\033[92m'\n",
    "    WARNING = '\\033[93m'\n",
    "    FAIL = '\\033[91m'\n",
    "    ENDC = '\\033[0m'\n",
    "    BOLD = '\\033[1m'\n",
    "    UNDERLINE = '\\033[4m'"
   ]
  },
  {
   "cell_type": "markdown",
   "id": "e8373013",
   "metadata": {},
   "source": [
    "Then we define the Black-Scholes for respectively call and put options."
   ]
  },
  {
   "cell_type": "code",
   "execution_count": 2,
   "id": "0fa42b36",
   "metadata": {},
   "outputs": [],
   "source": [
    "def BlackScholes(S_t = 40, K = 45, t = 0, T = 1, sigma = 1, r = 0.05, direction = \"Call\"):\n",
    "\n",
    "    d1 = (1/(sigma*np.sqrt(T - t))) * (np.log(S_t/K) + (r + (sigma**2)/2)*(T - t))\n",
    "    d2 = d1 - sigma*np.sqrt(T - t)\n",
    "    \n",
    "    if direction == \"Call\":  \n",
    "        return(norm.cdf(d1)*S_t - norm.cdf(d2)*K*np.exp(-r*(T-t)))\n",
    "    elif direction == \"Put\":\n",
    "        return(-norm.cdf(-d1)*S_t + norm.cdf(-d2)*K*np.exp(-r*(T-t)))\n",
    "    else:\n",
    "        return(np.nan)"
   ]
  },
  {
   "cell_type": "markdown",
   "id": "459a9cfc",
   "metadata": {},
   "source": [
    "Then we implement a general Euler-Maruyama scheme."
   ]
  },
  {
   "cell_type": "code",
   "execution_count": 3,
   "id": "22ae26c2",
   "metadata": {},
   "outputs": [],
   "source": [
    "# ------------------ EULER-MARUYAMA IMPLEMENTATION ------------------\n",
    "\n",
    "def SDE_simulation(tN = 100, t0 = 0, f = lambda X_t, t : 0, g = lambda X_t, t : 1, delta_t = 0.001, X_0 = 0, n_sim = 10, plot = False, title = 'Cox-Ingersoll-Ross', verbose = False):\n",
    "\n",
    "    start = time.time()\n",
    "\n",
    "    size = math.ceil((tN - t0)/delta_t)\n",
    "    time_points = [t0] + [delta_t for i in range(0, size)]\n",
    "\n",
    "    column_names = ['Time'] + ['Simulation {}'.format(i) for i in range(1, n_sim+1)];\n",
    "    time_array = np.cumsum(time_points);\n",
    "\n",
    "    # Simulation (for now equal time steps are assumed)\n",
    "    dWt = norm.ppf(np.random.rand(size + 1,n_sim), loc = 0, scale = math.sqrt(delta_t))\n",
    "\n",
    "    # Euler Maruyama\n",
    "    simulation_array = np.zeros((size + 1,n_sim))\n",
    "    simulation_array[0,:]  = X_0;\n",
    "    for i in range(0, len(time_points)-1):\n",
    "        simulation_array[i+1,:] = simulation_array[i,:] + f(simulation_array[i,:], time_array[i]) * time_points[i+1] + g(simulation_array[i,:], time_array[i]) * dWt[i]\n",
    "\n",
    "    # Then we can make a Pandas data frame\n",
    "    df = pd.DataFrame(np.column_stack([time_array, simulation_array]));\n",
    "    df.columns = column_names;\n",
    "\n",
    "    end = time.time()\n",
    "    \n",
    "    if verbose:\n",
    "        print(\"\\nTime to run simulations: {}s \\n\".format(end - start))\n",
    "        print(\"The output has {} rows and {} columns.\".format(df.shape[0], df.shape[1]))\n",
    "        print(\"The total number of elements is {}.\\n\".format(df.shape[0]*df.shape[1]))\n",
    "\n",
    "    if plot:\n",
    "\n",
    "        plt.rcParams.update({\n",
    "            \"text.usetex\": True,\n",
    "            \"font.family\": \"Helvetica\"\n",
    "        })\n",
    "\n",
    "        print(\"Plotting has started ...\\n\")\n",
    "        plt.figure(figsize=(10,6), dpi = 100)\n",
    "        plt.xlabel('t', fontsize = 14)\n",
    "        plt.ylabel(r'$X_{t}$', fontsize = 14)\n",
    "        plt.title(title, fontsize = 18)\n",
    "        plt.plot(df.iloc[:,0].values, df.iloc[:,1:].values);\n",
    "        plt.show()\n",
    "\n",
    "    return(df)\n",
    "\n",
    "# ------------------ VARIOUS MODELS FROM THE COURSE ------------------\n",
    "\n",
    "def StandardBrownianMotion(tN = 100, t0 = 0, delta_t = 0.001, B_0 = 0, n_sim = 10, plot = False, title = r'\\textbf{Standard Brownian Motion (i.e., $\\{B_{t}\\}_{t \\geq t_{0}}$)}'):\n",
    "    return SDE_simulation(tN = tN, t0 = t0, delta_t = 0.001, X_0 = B_0, n_sim = n_sim, plot = plot, title = title)\n",
    "\n",
    "def GeometricBrownianMotion(r = 0.1, sigma = 0.2, tN = 100, t0 = 0, delta_t = 0.001, X_0 = 0, n_sim = 10, plot = False, title = r'Geometric Brownian Motion'):\n",
    "\n",
    "    def f(state: float, t: float)->\"Drift\":\n",
    "        return(state*r)\n",
    "\n",
    "    def g(state: float, t: float)->\"Diffusion\":\n",
    "        return(state*sigma)\n",
    "\n",
    "    return SDE_simulation(tN = tN, f = f, g = g, t0 = t0, delta_t = delta_t, X_0 = X_0, n_sim = n_sim, plot = plot, title = title)\n",
    "\n",
    "def CoxIngersollRoss(lambdA = 0.1, xi = 0.2, gamma = 0.3, tN = 100, t0 = 0, delta_t = 0.001, B_0 = 0, n_sim = 10, plot = False, title = r'Cox-Ingersoll-Ross'):\n",
    "\n",
    "    def f(state: float, t: float)->\"Drift\":\n",
    "        return(lambdA * (xi - state))\n",
    "\n",
    "    def g(state: float, t: float)->\"Diffusion\":\n",
    "        return(gamma * np.sqrt(state))\n",
    "\n",
    "    return SDE_simulation(tN = tN, f = f, g = g, t0 = t0, delta_t = 0.001, X_0 = B_0, n_sim = n_sim, plot = plot, title = title)"
   ]
  },
  {
   "cell_type": "markdown",
   "id": "471b21e3",
   "metadata": {},
   "source": [
    "Based on the GBM, we can price call and put options. In order to reason about uncertainty in the option prices, we need to use *Central Limit Theorem* (CLT)."
   ]
  },
  {
   "cell_type": "markdown",
   "id": "e2cb6105",
   "metadata": {},
   "source": [
    "### Implementation of Monte Carlo Estimation of European Options"
   ]
  },
  {
   "cell_type": "code",
   "execution_count": 4,
   "id": "11f72ada",
   "metadata": {},
   "outputs": [],
   "source": [
    "def monteCarloEuropeanOptions(S_t = 30, K = 40, t = 0, T = 240/365, sigma = 0.30, r = 0.01, direction = \"Call\", n_sim = 1000, alpha = 0.05):\n",
    "    \n",
    "    # Discount factor\n",
    "    discountFactor = np.exp(-r*(T - t))\n",
    "    \n",
    "    # Save 1000 simulations at a time (memory purposes)\n",
    "    reps = math.ceil(n_sim/100)\n",
    "    n_sim_iteration = math.ceil(n_sim/reps)\n",
    "    E_CT_FV = np.zeros(reps)\n",
    "    E_CT_Squared = np.zeros(reps)\n",
    "    \n",
    "    for i in tqdm (range(0,reps), desc=\"Loading…\", ascii=False, ncols=75):\n",
    "    \n",
    "        simulations = GeometricBrownianMotion(r = r, sigma = sigma, tN = T, t0 = 0, delta_t = 0.0001, X_0 = S_t, n_sim = n_sim_iteration, plot = False, title = r'Geometric Brownian Motion')\n",
    "        ST = simulations.iloc[-1,1:].values\n",
    "\n",
    "        if direction == \"Call\":\n",
    "            CT = np.maximum(ST - K, 0)\n",
    "        elif direction == \"Put\":\n",
    "            CT = np.maximum(K - ST, 0)\n",
    "        else:\n",
    "            return\n",
    "    \n",
    "        E_CT_FV[i] = np.mean(CT)\n",
    "        E_CT_Squared[i] = np.mean(CT**2)\n",
    "        \n",
    "    E_CT = np.mean(E_CT_FV * discountFactor)\n",
    "    SE_E_CT = np.sqrt((np.mean(E_CT_Squared) - np.mean(E_CT_FV)**2)*(discountFactor**2))/np.sqrt(n_sim)\n",
    "    \n",
    "    return(E_CT, (norm.ppf(alpha/2)*SE_E_CT + E_CT, E_CT + norm.ppf(1 - alpha/2)*SE_E_CT))\n"
   ]
  },
  {
   "cell_type": "markdown",
   "id": "af69e019",
   "metadata": {},
   "source": [
    "### Pricing European Options (Comparison)"
   ]
  },
  {
   "cell_type": "code",
   "execution_count": 5,
   "id": "3bc0c0cd",
   "metadata": {},
   "outputs": [],
   "source": [
    "S = 101.15\n",
    "K = 98.01\n",
    "vol = 0.0991\n",
    "r = 0.01\n",
    "N = 10\n",
    "M = 1000\n",
    "T = ((datetime.date(2022,3,17) - datetime.date(2022,1,17)).days + 1)/365"
   ]
  },
  {
   "cell_type": "code",
   "execution_count": 61,
   "id": "99df7238",
   "metadata": {},
   "outputs": [
    {
     "name": "stderr",
     "output_type": "stream",
     "text": [
      "Loading…: 100%|████████████████████████████| 10/10 [00:00<00:00, 68.55it/s]\n"
     ]
    }
   ],
   "source": [
    "Analytical_Call = BlackScholes(S_t = S, K = K, t = 0, T = T, sigma = vol, r = r, direction = \"Call\")\n",
    "MC_Call, MC_CI_Call = monteCarloEuropeanOptions(S_t = S, K = K, t = 0, T = T, sigma = vol, r = r, direction = \"Call\", n_sim = 1000)"
   ]
  },
  {
   "cell_type": "code",
   "execution_count": 62,
   "id": "fe9d2524",
   "metadata": {},
   "outputs": [
    {
     "data": {
      "text/plain": [
       "3.7599850644771777"
      ]
     },
     "execution_count": 62,
     "metadata": {},
     "output_type": "execute_result"
    }
   ],
   "source": [
    "Analytical_Call"
   ]
  },
  {
   "cell_type": "code",
   "execution_count": 63,
   "id": "6dff2ed5",
   "metadata": {},
   "outputs": [
    {
     "data": {
      "text/plain": [
       "3.6592702057926587"
      ]
     },
     "execution_count": 63,
     "metadata": {},
     "output_type": "execute_result"
    }
   ],
   "source": [
    "MC_Call"
   ]
  },
  {
   "cell_type": "code",
   "execution_count": 64,
   "id": "5d2eb77f",
   "metadata": {},
   "outputs": [
    {
     "data": {
      "text/plain": [
       "(3.442871171601622, 3.8756692399836954)"
      ]
     },
     "execution_count": 64,
     "metadata": {},
     "output_type": "execute_result"
    }
   ],
   "source": [
    "MC_CI_Call"
   ]
  },
  {
   "cell_type": "code",
   "execution_count": 135,
   "id": "b64eaa9b",
   "metadata": {},
   "outputs": [],
   "source": [
    "class BinomialTree:\n",
    "    \n",
    "    def __init__(self, S0, U, D, T = 1, periods = 2):\n",
    "        \n",
    "        self.U = U;\n",
    "        self.D = D;\n",
    "        self.T = T;\n",
    "        self.dt = T/periods\n",
    "        self.periods = periods;\n",
    "        self.Vertices = int((periods+1)*(periods + 2)/2); \n",
    "        self.finalVertices = periods + 1;\n",
    "        self.graph = np.zeros(self.Vertices);\n",
    "        self.graph[0] = S0;\n",
    "        self.V = np.copy(self.graph)\n",
    "        self.constructTree();\n",
    "        \n",
    "    def constructTree(self):\n",
    "        \n",
    "        for i in range(1, self.Vertices):\n",
    "            \n",
    "            level = self.getLevel(i)\n",
    "            \n",
    "            if self.isLeftNode(i):\n",
    "                self.graph[i] = self.graph[i-level]*self.D\n",
    "                \n",
    "            elif self.isMiddleNode(i):\n",
    "                self.graph[i] = self.graph[i-level]*self.D\n",
    "                \n",
    "            elif self.isRightNode(i):\n",
    "                self.graph[i] = self.graph[i-(level+1)]*self.U\n",
    "                \n",
    "            else:\n",
    "                print(\"An error occured!\")\n",
    "                \n",
    "    def priceAsianOption(self, K = 105, R = 0.05, avgPeriod = 2, optType = 'Call', verbose = False):\n",
    "        \n",
    "        if avgPeriod > self.periods:\n",
    "            avgPeriod = self.periods;\n",
    "        \n",
    "        start = time.time()\n",
    "        \n",
    "        # Define payoff\n",
    "        f = lambda S : np.maximum(S-K,0) if optType == 'Call' else np.maximum(K-S,0)\n",
    "\n",
    "        # Adjust from annual to step-wise\n",
    "        R = np.exp(R*(1/self.periods)*self.T) - 1\n",
    "        \n",
    "        p = ((R + 1) - self.D)/(self.U - self.D)\n",
    "        q = (1 - p)\n",
    "        \n",
    "        path_dependent = np.zeros(2**(self.periods + 1) - 1)\n",
    "        path_dependent[0] = self.graph[0]\n",
    "        \n",
    "        for i in range(2**(self.periods) - 1):\n",
    "            path_dependent[self.getLeftChildDependent(i)] = path_dependent[i]*self.D\n",
    "            path_dependent[self.getRightChildDependent(i)] = path_dependent[i]*self.U\n",
    "\n",
    "        for i in range(2**(self.periods) - 1, 2**(self.periods+1) - 1):\n",
    "            path_average = path_dependent[i]\n",
    "            for j in range(avgPeriod-1):\n",
    "                path_average += path_dependent[self.getParentDependent(i)]\n",
    "            path_dependent[i] = f(path_average/self.periods)\n",
    "            \n",
    "        for i in np.arange(2**self.periods - 1)[::-1]:\n",
    "            \n",
    "            H_u = path_dependent[self.getRightChildDependent(i)]\n",
    "            H_d = path_dependent[self.getLeftChildDependent(i)]\n",
    "            \n",
    "            # Risk-neutral expectation\n",
    "            path_dependent[i] = (1/(1 + R))*(H_u*p + H_d*q)\n",
    "        \n",
    "        V = path_dependent[0]\n",
    "        end = time.time()\n",
    "        \n",
    "        if verbose:\n",
    "        \n",
    "            print(\"It took {}s to price the options with a {}-period binomial model.\".format(round(end-start,2), self.periods))\n",
    "            print(\"The price of the '{} Option' is: {}{}{}.\".format(optType, '\\x1b[0;30;43m', round(V, 6), '\\x1b[0m'))\n",
    "\n",
    "        return V;  \n",
    "        \n",
    "    def priceAmericanOption(self, K = 105, R = 0.05, optType = 'Call', verbose = False):\n",
    "        \n",
    "        start = time.time()\n",
    "        \n",
    "        # Define payoff\n",
    "        f = lambda S : np.maximum(S-K,0) if optType == 'Call' else np.maximum(K-S,0)\n",
    "\n",
    "        # Adjust from annual to step-wise\n",
    "        R = np.exp(R*(1/self.periods)*self.T) - 1\n",
    "        \n",
    "        p = ((R + 1) - self.D)/(self.U - self.D)\n",
    "        q = (1 - p)\n",
    "        \n",
    "        self.V[self.Vertices - (self.periods+1):] = f(self.graph[self.Vertices - (self.periods+1):])\n",
    "        \n",
    "        for i in np.arange(self.Vertices - (self.periods+1))[::-1]:\n",
    "            \n",
    "            level = self.getLevel(i)\n",
    "            H_u = self.V[i + (level + 2)]\n",
    "            H_d = self.V[i + (level + 1)]\n",
    "            \n",
    "            # Risk-neutral expectation\n",
    "            alternative1 = (1/(1 + R))*(H_u*p + H_d*q)\n",
    "            alternative2 = f(self.graph[i])\n",
    "            self.V[i] = max(alternative1, alternative2)\n",
    "            \n",
    "        end = time.time()\n",
    "        \n",
    "        if verbose:\n",
    "            print(\"It took {}s to price the options with a {}-period binomial model.\".format(round(end-start,2), self.periods))\n",
    "            print(\"The price of the '{} Option' is: {}{}{}.\".format(optType, '\\x1b[0;30;43m', round(self.V[0], 6), '\\x1b[0m'))\n",
    "        \n",
    "        return self.V[0];\n",
    "                \n",
    "    def priceEuropeanOption(self, K = 105, R = 0.05, optType = 'Call', verbose = False):\n",
    "        \n",
    "        start = time.time()\n",
    "        \n",
    "        # Define payoff\n",
    "        f = lambda S, optType : np.maximum(S-K,0) if optType == 'Call' else np.maximum(K-S,0)\n",
    "\n",
    "        # Adjust from annual to step-wise\n",
    "        R = np.exp(R*(1/self.periods)*self.T) - 1\n",
    "        \n",
    "        p = ((R + 1) - self.D)/(self.U - self.D)\n",
    "        q = (1 - p)\n",
    "        \n",
    "        self.V[self.Vertices - (self.periods+1):] = f(self.graph[self.Vertices - (self.periods+1):], optType)\n",
    "        \n",
    "        for i in np.arange(self.Vertices - (self.periods+1))[::-1]:\n",
    "            \n",
    "            level = self.getLevel(i)\n",
    "            H_u = self.V[i + (level + 2)]\n",
    "            H_d = self.V[i + (level + 1)]\n",
    "            \n",
    "            # Risk-neutral expectation\n",
    "            self.V[i] = (1/(1 + R))*(H_u*p + H_d*q)\n",
    "            \n",
    "        end = time.time()\n",
    "        \n",
    "        if verbose:\n",
    "            print(\"It took {}s to price the options with a {}-period binomial model.\".format(round(end-start,2), self.periods))\n",
    "            print(\"The price of the '{} Option' is: {}{}{}.\".format(optType, '\\x1b[0;30;43m', round(self.V[0], 6), '\\x1b[0m'))\n",
    "\n",
    "        return(self.V[0])\n",
    "    \n",
    "    def isLeftNode(self, x):\n",
    "        \n",
    "        # Root of Gauss' Class Room Formula\n",
    "        return ((-1 + np.sqrt(1 + 8*x))/2).is_integer()\n",
    "        \n",
    "    def isMiddleNode(self, x):\n",
    "        return (not self.isLeftNode(x) and not self.isRightNode(x))\n",
    "        \n",
    "    def isRightNode(self, x):\n",
    "        \n",
    "        # Root of Gauss' Class Room Formula\n",
    "        return self.isLeftNode(x+1)\n",
    "    \n",
    "    def getLevel(self, x):\n",
    "        return int(((-1 + np.sqrt(1 + 8*x))/2))\n",
    "\n",
    "    def getParent(self, x):\n",
    "        \n",
    "        level = self.getLevel(x)\n",
    "        \n",
    "        if self.isLeftNode(x):\n",
    "            return((x-level))\n",
    "        \n",
    "        elif self.isMiddleNode(x):\n",
    "            return((x-(level+1),x-level))\n",
    "        \n",
    "        else:\n",
    "            return((x-(level+1)))\n",
    "        \n",
    "    def getLeftChild(self, x):\n",
    "        \n",
    "        level = self.getLevel(x)\n",
    "        return x + (level + 1)\n",
    "        \n",
    "    def getRightChild(self, x):\n",
    "        \n",
    "        level = self.getLevel(x)\n",
    "        return x + (level + 2)\n",
    "    \n",
    "    def getLevelDependent(self, x):\n",
    "        return math.ceil(math.log(x+2, 2) - 1)\n",
    "\n",
    "    def getParentDependent(self, x):  \n",
    "        return math.floor((x+1)/2) - 1\n",
    "        \n",
    "    def getLeftChildDependent(self, x):\n",
    "        return 2*x + 1;\n",
    "        \n",
    "    def getRightChildDependent(self, x): \n",
    "        return 2*x + 2;\n",
    "    \n",
    "    def generatePaths(self):\n",
    "        \n",
    "        n_paths = 2**self.periods;\n",
    "        paths = np.zeros((self.periods+1, n_paths));\n",
    "        paths[0,:] = self.graph[0]\n",
    "        symbolic_trails = np.zeros(self.periods + 1)\n",
    "        \n",
    "        # Compute cross product\n",
    "        possibilities_static = [\"u\", \"d\"]\n",
    "        possibilities_dynamic = [\"u\", \"d\"]\n",
    "        \n",
    "        if self.periods == 1:\n",
    "            symbolic_trails = possibilities_static;\n",
    "        else:\n",
    "            for k in range(1, self.periods):\n",
    "                possibilities_dynamic = [i + j for i in possibilities_dynamic for j in possibilities_static];\n",
    "                symbolic_trails = possibilities_dynamic;\n",
    "        \n",
    "        number_of_trails = len(symbolic_trails)\n",
    "        trail_length = len(symbolic_trails[0])\n",
    "        trail = np.zeros(trail_length + 1)\n",
    "        trail[0] = self.graph[0]\n",
    "        focus_node = 0\n",
    "\n",
    "        \n",
    "        for i in tqdm (range(number_of_trails), desc=\"Loading…\", ascii=False, ncols=75):\n",
    "            for j in range(trail_length):\n",
    "                focus_node = self.getLeftChild(focus_node) if symbolic_trails[i][j] == \"d\" else self.getRightChild(focus_node)\n",
    "                trail[j+1] = self.graph[focus_node]\n",
    "            paths[:,i] = trail;\n",
    "            focus_node = 0\n",
    "            \n",
    "        return paths\n",
    "\n",
    "    def displayTree(self, monitor = True):\n",
    "        \n",
    "        if self.periods > 15:\n",
    "            print(\"The binomial tree is too large...\")\n",
    "            return\n",
    "        \n",
    "        t = [i for i in range(self.periods + 1)];\n",
    "        paths = self.generatePaths()\n",
    "            \n",
    "        plt.rcParams.update({\n",
    "            \"text.usetex\": True,\n",
    "            \"font.family\": \"Helvetica\"\n",
    "        })\n",
    "\n",
    "        print(\"\\nPlotting has started ...\\n\")\n",
    "        plt.figure(figsize=(10,6), dpi = 100)\n",
    "        plt.xlabel('Period', fontsize = 14)\n",
    "        plt.ylabel(r'$S_{t}$', fontsize = 14)\n",
    "        plt.title(\"{}-Step Binomial Model\".format(self.periods), fontsize = 18)\n",
    "        plt.plot(t, paths);\n",
    "        plt.show()  \n",
    "        "
   ]
  },
  {
   "cell_type": "code",
   "execution_count": 17,
   "id": "70ddaa1e",
   "metadata": {},
   "outputs": [],
   "source": [
    "def binom(n, k):\n",
    "    try:\n",
    "        return math.factorial(n) // math.factorial(k) // math.factorial(n - k)\n",
    "    except ValueError:\n",
    "        return 0"
   ]
  },
  {
   "cell_type": "code",
   "execution_count": 103,
   "id": "6b82a734",
   "metadata": {},
   "outputs": [],
   "source": [
    "def EuropeanOptionPricing(S, K = 105, R = 0.05, N = 3, U = 1.236311, D = 0.808858, optType = \"Call\"):\n",
    "    \n",
    "    # Find rate between periods\n",
    "    R = np.exp(R*(1/N)) - 1\n",
    "    \n",
    "    # Compute risk-neutral probabilities\n",
    "    p = (R - (D - 1))/((U - 1) - (D - 1))\n",
    "    q = (1 - p)\n",
    "    \n",
    "    # Define payoff\n",
    "    f = lambda S, optType : max(S-K,0) if optType == 'Call' else max(K-S,0)\n",
    "    \n",
    "    # Return discounted expectation under risk-neutral measure\n",
    "    return ((1+R)**(-N))*np.sum([binom(N,k)*(p**k)*(q**(N-k))*f(S*(U**k)*(D**(N-k)), optType) for k in range(0,N+1)])"
   ]
  },
  {
   "cell_type": "markdown",
   "id": "f2624bfb",
   "metadata": {},
   "source": [
    "<h1><center>EXERCISES</center></h1>"
   ]
  },
  {
   "cell_type": "markdown",
   "id": "44ad51c0",
   "metadata": {},
   "source": [
    "## 1) Two-period binomial model (European put option)"
   ]
  },
  {
   "cell_type": "code",
   "execution_count": 13,
   "id": "4aed93c2",
   "metadata": {},
   "outputs": [
    {
     "name": "stdout",
     "output_type": "stream",
     "text": [
      "It took 0.0s to price the options with a 2-period binomial model.\n",
      "The price of the 'Put Option' is: \u001b[0;30;43m11.549936\u001b[0m.\n"
     ]
    }
   ],
   "source": [
    "Exercise1 = BinomialTree(100, 1.236311, 0.808858, periods = 2)\n",
    "Exercise1.priceEuropeanOption(K = 105, R = 0.05, optType='Put')"
   ]
  },
  {
   "cell_type": "code",
   "execution_count": null,
   "id": "57e7cdf4",
   "metadata": {},
   "outputs": [],
   "source": [
    "EuropeanOptionPricing(100, R=0.05, N = 2, optType='Put')"
   ]
  },
  {
   "cell_type": "markdown",
   "id": "178ab3a1",
   "metadata": {},
   "source": [
    "## 2) Three-period binomial model (European call option)"
   ]
  },
  {
   "cell_type": "code",
   "execution_count": 101,
   "id": "206549a0",
   "metadata": {},
   "outputs": [
    {
     "name": "stdout",
     "output_type": "stream",
     "text": [
      "It took 0.0s to price the options with a 3-period binomial model.\n",
      "The price of the 'Call Option' is: \u001b[0;30;43m10.150362\u001b[0m.\n"
     ]
    }
   ],
   "source": [
    "Exercise2 = BinomialTree(100, 1.155274, 0.865596, periods = 3)\n",
    "Exercise2.priceEuropeanOption(K = 105, R = 0.04, optType='Call', verbose = True);"
   ]
  },
  {
   "cell_type": "code",
   "execution_count": 102,
   "id": "f73912d6",
   "metadata": {},
   "outputs": [],
   "source": [
    "EuropeanOptionPricing(100, K=105, R=0.04, N=3, U=1.155274, D=0.865596, optType='Call');"
   ]
  },
  {
   "cell_type": "markdown",
   "id": "54211b7a",
   "metadata": {},
   "source": [
    "## 3) Two-period binomial model (American call option)"
   ]
  },
  {
   "cell_type": "code",
   "execution_count": 97,
   "id": "8303fb65",
   "metadata": {},
   "outputs": [
    {
     "name": "stdout",
     "output_type": "stream",
     "text": [
      "It took 0.0s to price the options with a 2-period binomial model.\n",
      "The price of the 'Put Option' is: \u001b[0;30;43m12.79801\u001b[0m.\n"
     ]
    }
   ],
   "source": [
    "Exercise3 = BinomialTree(100, 1.236311, 0.808858, periods = 2)\n",
    "Exercise3.priceAmericanOption(K = 105, R = 0.05, optType='Put', verbose = True);"
   ]
  },
  {
   "cell_type": "markdown",
   "id": "e620efc0",
   "metadata": {},
   "source": [
    "## 4) Two-period binomial model (Asian call option)"
   ]
  },
  {
   "cell_type": "code",
   "execution_count": 65,
   "id": "1fb85d92",
   "metadata": {},
   "outputs": [
    {
     "name": "stdout",
     "output_type": "stream",
     "text": [
      "It took 0.0s to price the options with a 2-period binomial model.\n",
      "The price of the 'Put Option' is: \u001b[0;30;43m10.841816\u001b[0m.\n"
     ]
    }
   ],
   "source": [
    "Exercise4 = BinomialTree(100, 1.236311, 0.808858, periods = 2)\n",
    "Exercise4.priceAsianOption(K = 105, R = 0.05, avgPeriod = 2, optType = 'Put')"
   ]
  },
  {
   "cell_type": "markdown",
   "id": "5d2f20c7",
   "metadata": {},
   "source": [
    "## 5) Programming exercises"
   ]
  },
  {
   "cell_type": "markdown",
   "id": "327403e8",
   "metadata": {},
   "source": [
    "## a)"
   ]
  },
  {
   "cell_type": "code",
   "execution_count": 117,
   "id": "c2af66cc",
   "metadata": {},
   "outputs": [],
   "source": [
    "sigma = 0.3\n",
    "T = 1\n",
    "n = 2\n",
    "U = np.exp(sigma*np.sqrt(T/n))\n",
    "D = 1/U"
   ]
  },
  {
   "cell_type": "code",
   "execution_count": 118,
   "id": "2760309a",
   "metadata": {},
   "outputs": [
    {
     "data": {
      "text/plain": [
       "11.54994255693747"
      ]
     },
     "execution_count": 118,
     "metadata": {},
     "output_type": "execute_result"
    }
   ],
   "source": [
    "ExerciseA = BinomialTree(100, U, D, periods = n)\n",
    "ExerciseA.priceEuropeanOption(K = 105, R = 0.05, optType='Put')"
   ]
  },
  {
   "cell_type": "markdown",
   "id": "62682442",
   "metadata": {},
   "source": [
    "## b)"
   ]
  },
  {
   "cell_type": "markdown",
   "id": "53d7d87c",
   "metadata": {},
   "source": [
    "The price should converge to the Black-Scholes result."
   ]
  },
  {
   "cell_type": "code",
   "execution_count": 119,
   "id": "23beb844",
   "metadata": {},
   "outputs": [
    {
     "data": {
      "text/plain": [
       "11.976881462184025"
      ]
     },
     "execution_count": 119,
     "metadata": {},
     "output_type": "execute_result"
    }
   ],
   "source": [
    "BlackScholes(S_t = 100, K = 105, t = 0, T = 1, sigma = sigma, r = 0.05, direction = \"Call\")"
   ]
  },
  {
   "cell_type": "code",
   "execution_count": 120,
   "id": "12ceed20",
   "metadata": {},
   "outputs": [
    {
     "data": {
      "image/png": "[encoded data removed]",
      "text/plain": [
       "<Figure size 1000x600 with 1 Axes>"
      ]
     },
     "metadata": {
      "needs_background": "light"
     },
     "output_type": "display_data"
    }
   ],
   "source": [
    "N_max = 100\n",
    "prices = np.zeros(N_max)\n",
    "\n",
    "for i in range(1, len(prices)+1):\n",
    "\n",
    "    n = i\n",
    "    U = np.exp(sigma*np.sqrt(T/n))\n",
    "    D = 1/U\n",
    "    ExerciseB = BinomialTree(100, U, D, periods = n)\n",
    "    prices[i-1] = ExerciseB.priceEuropeanOption(K = 105, R = 0.05, optType='Call')\n",
    "    \n",
    "t = [i for i in range(1, N_max+1)];\n",
    "\n",
    "plt.rcParams.update({\n",
    "    \"text.usetex\": True,\n",
    "    \"font.family\": \"Helvetica\"\n",
    "})\n",
    "\n",
    "plt.figure(figsize=(10,6), dpi = 100)\n",
    "plt.xlabel(r'$n$', fontsize = 14)\n",
    "plt.ylabel(r'$V_{n}$', fontsize = 14)\n",
    "plt.title(\"Pricing of Call Option as function of n\", fontsize = 18, y=1.03)\n",
    "plt.plot(t, prices);\n",
    "plt.show()  "
   ]
  },
  {
   "cell_type": "code",
   "execution_count": 121,
   "id": "848ad2c2",
   "metadata": {},
   "outputs": [
    {
     "data": {
      "text/plain": [
       "11.981403540007665"
      ]
     },
     "execution_count": 121,
     "metadata": {},
     "output_type": "execute_result"
    }
   ],
   "source": [
    "prices[-1]"
   ]
  },
  {
   "cell_type": "markdown",
   "id": "dea9271b",
   "metadata": {},
   "source": [
    "It appears to be converging. "
   ]
  },
  {
   "cell_type": "markdown",
   "id": "bcb42442",
   "metadata": {},
   "source": [
    "## c)"
   ]
  },
  {
   "cell_type": "code",
   "execution_count": 122,
   "id": "6b230a6b",
   "metadata": {},
   "outputs": [
    {
     "name": "stdout",
     "output_type": "stream",
     "text": [
      "It took 0.0s to price the options with a 2-period binomial model.\n",
      "The price of the 'Put Option' is: \u001b[0;30;43m11.549943\u001b[0m.\n"
     ]
    }
   ],
   "source": [
    "sigma = 0.3\n",
    "T = 1\n",
    "n = 2\n",
    "U = np.exp(sigma*np.sqrt(T/n))\n",
    "D = 1/U\n",
    "\n",
    "ExerciseC = BinomialTree(100, U, D, periods = n)\n",
    "ExerciseC.priceEuropeanOption(K = 105, R = 0.05, optType='Put', verbose = True);"
   ]
  },
  {
   "cell_type": "code",
   "execution_count": 123,
   "id": "cdfd1dc7",
   "metadata": {},
   "outputs": [
    {
     "data": {
      "image/png": "[encoded data removed]",
      "text/plain": [
       "<Figure size 1000x600 with 1 Axes>"
      ]
     },
     "metadata": {
      "needs_background": "light"
     },
     "output_type": "display_data"
    }
   ],
   "source": [
    "N_max = 100\n",
    "prices = np.zeros(N_max)\n",
    "\n",
    "for i in range(1, len(prices)+1):\n",
    "\n",
    "    n = i\n",
    "    U = np.exp(sigma*np.sqrt(T/n))\n",
    "    D = 1/U\n",
    "    ExerciseB = BinomialTree(100, U, D, periods = n)\n",
    "    prices[i-1] = ExerciseB.priceEuropeanOption(K = 105, R = 0.05, optType='Put')\n",
    "    \n",
    "t = [i for i in range(1, N_max+1)];\n",
    "\n",
    "plt.rcParams.update({\n",
    "    \"text.usetex\": True,\n",
    "    \"font.family\": \"Helvetica\"\n",
    "})\n",
    "\n",
    "plt.figure(figsize=(10,6), dpi = 100)\n",
    "plt.xlabel(r'$n$', fontsize = 14)\n",
    "plt.ylabel(r'$V_{n}$', fontsize = 14)\n",
    "plt.title(\"Pricing of Put Option as function of n\", fontsize = 18, y=1.03)\n",
    "plt.plot(t, prices);\n",
    "plt.show()  "
   ]
  },
  {
   "cell_type": "code",
   "execution_count": 125,
   "id": "9d8fd0d4",
   "metadata": {},
   "outputs": [
    {
     "data": {
      "text/plain": [
       "11.855971034759008"
      ]
     },
     "execution_count": 125,
     "metadata": {},
     "output_type": "execute_result"
    }
   ],
   "source": [
    "BlackScholes(S_t = 100, K = 105, t = 0, T = 1, sigma = sigma, r = 0.05, direction = \"Put\")"
   ]
  },
  {
   "cell_type": "code",
   "execution_count": 126,
   "id": "9466f928",
   "metadata": {},
   "outputs": [
    {
     "data": {
      "text/plain": [
       "11.860493112583496"
      ]
     },
     "execution_count": 126,
     "metadata": {},
     "output_type": "execute_result"
    }
   ],
   "source": [
    "prices[-1]"
   ]
  },
  {
   "cell_type": "markdown",
   "id": "b355c8df",
   "metadata": {},
   "source": [
    "## d)"
   ]
  },
  {
   "cell_type": "code",
   "execution_count": 127,
   "id": "0e1b1062",
   "metadata": {},
   "outputs": [
    {
     "name": "stdout",
     "output_type": "stream",
     "text": [
      "It took 0.0s to price the options with a 2-period binomial model.\n",
      "The price of the 'Put Option' is: \u001b[0;30;43m12.798016\u001b[0m.\n"
     ]
    }
   ],
   "source": [
    "sigma = 0.3\n",
    "T = 1\n",
    "n = 2\n",
    "U = np.exp(sigma*np.sqrt(T/n))\n",
    "D = 1/U\n",
    "\n",
    "ExerciseD = BinomialTree(100, U, D, periods = n)\n",
    "ExerciseD.priceAmericanOption(K = 105, R = 0.05, optType='Put', verbose = True);"
   ]
  },
  {
   "cell_type": "code",
   "execution_count": 129,
   "id": "555e9145",
   "metadata": {},
   "outputs": [
    {
     "name": "stderr",
     "output_type": "stream",
     "text": [
      "Loading…: 100%|██████████████████████████| 100/100 [00:01<00:00, 89.82it/s]\n"
     ]
    },
    {
     "data": {
      "image/png": "[encoded data removed]",
      "text/plain": [
       "<Figure size 1000x600 with 1 Axes>"
      ]
     },
     "metadata": {
      "needs_background": "light"
     },
     "output_type": "display_data"
    }
   ],
   "source": [
    "N_max = 100\n",
    "prices = np.zeros(N_max)\n",
    "\n",
    "for i in tqdm (range(1, len(prices)+1), desc=\"Loading…\", ascii=False, ncols=75):\n",
    "\n",
    "    n = i\n",
    "    U = np.exp(sigma*np.sqrt(T/n))\n",
    "    D = 1/U\n",
    "    ExerciseD = BinomialTree(100, U, D, periods = n)\n",
    "    prices[i-1] = ExerciseD.priceAmericanOption(K = 105, R = 0.05, optType='Put')\n",
    "    \n",
    "t = [i for i in range(1, N_max+1)];\n",
    "\n",
    "plt.rcParams.update({\n",
    "    \"text.usetex\": True,\n",
    "    \"font.family\": \"Helvetica\"\n",
    "})\n",
    "\n",
    "plt.figure(figsize=(10,6), dpi = 100)\n",
    "plt.xlabel(r'$n$', fontsize = 14)\n",
    "plt.ylabel(r'$V_{n}$', fontsize = 14)\n",
    "plt.title(\"Pricing of American Put Option as function of n\", fontsize = 18, y=1.03)\n",
    "plt.plot(t, prices);\n",
    "plt.show()  "
   ]
  },
  {
   "cell_type": "markdown",
   "id": "d6ea41c6",
   "metadata": {},
   "source": [
    "## e) Asian Options ['Not part of exercises']"
   ]
  },
  {
   "cell_type": "code",
   "execution_count": 132,
   "id": "86585fc9",
   "metadata": {},
   "outputs": [
    {
     "name": "stdout",
     "output_type": "stream",
     "text": [
      "It took 0.0s to price the options with a 2-period binomial model.\n",
      "The price of the 'Put Option' is: \u001b[0;30;43m10.841821\u001b[0m.\n"
     ]
    }
   ],
   "source": [
    "sigma = 0.3\n",
    "T = 1\n",
    "n = 2\n",
    "U = np.exp(sigma*np.sqrt(T/n))\n",
    "D = 1/U\n",
    "\n",
    "ExerciseE = BinomialTree(100, U, D, periods = n)\n",
    "ExerciseE.priceAsianOption(K = 105, R = 0.05, optType='Put', verbose = True);"
   ]
  },
  {
   "cell_type": "code",
   "execution_count": 139,
   "id": "9e47c933",
   "metadata": {},
   "outputs": [
    {
     "name": "stderr",
     "output_type": "stream",
     "text": [
      "Loading…: 100%|████████████████████████████| 20/20 [00:12<00:00,  1.61it/s]\n"
     ]
    },
    {
     "data": {
      "image/png": "[encoded data removed]",
      "text/plain": [
       "<Figure size 1000x600 with 1 Axes>"
      ]
     },
     "metadata": {
      "needs_background": "light"
     },
     "output_type": "display_data"
    }
   ],
   "source": [
    "N_max = 20\n",
    "prices = np.zeros(N_max)\n",
    "\n",
    "for i in tqdm (range(1, len(prices)+1), desc=\"Loading…\", ascii=False, ncols=75):\n",
    "\n",
    "    n = i\n",
    "    U = np.exp(sigma*np.sqrt(T/n))\n",
    "    D = 1/U\n",
    "    ExerciseE = BinomialTree(100, U, D, periods = n)\n",
    "    prices[i-1] = ExerciseE.priceAsianOption(K = 105, R = 0.05, avgPeriod = n, optType='Put')\n",
    "    \n",
    "t = [i for i in range(1, N_max+1)];\n",
    "\n",
    "plt.rcParams.update({\n",
    "    \"text.usetex\": True,\n",
    "    \"font.family\": \"Helvetica\"\n",
    "})\n",
    "\n",
    "plt.figure(figsize=(10,6), dpi = 100)\n",
    "plt.xlabel(r'$n$', fontsize = 14)\n",
    "plt.ylabel(r'$V_{n}$', fontsize = 14)\n",
    "plt.title(\"Pricing of Asian Put Option as function of n\", fontsize = 18, y=1.03)\n",
    "plt.plot(t, prices);\n",
    "plt.show()  "
   ]
  },
  {
   "cell_type": "code",
   "execution_count": null,
   "id": "becef2ed",
   "metadata": {},
   "outputs": [],
   "source": []
  }
 ],
 "metadata": {
  "kernelspec": {
   "display_name": "Python 3 (ipykernel)",
   "language": "python",
   "name": "python3"
  },
  "language_info": {
   "codemirror_mode": {
    "name": "ipython",
    "version": 3
   },
   "file_extension": ".py",
   "mimetype": "text/x-python",
   "name": "python",
   "nbconvert_exporter": "python",
   "pygments_lexer": "ipython3",
   "version": "3.9.12"
  }
 },
 "nbformat": 4,
 "nbformat_minor": 5
}
