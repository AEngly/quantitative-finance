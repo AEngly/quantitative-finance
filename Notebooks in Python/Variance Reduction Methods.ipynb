{
 "cells": [
  {
   "cell_type": "markdown",
   "id": "dfdd72d8",
   "metadata": {},
   "source": [
    "<br>\n",
    "<br>\n",
    "<center> <font size = 6> Variance Reduction Methods </font> </center>\n",
    "<br>\n",
    "<br>\n",
    "<center> <font size = 3> Last Updated: 27/02-2023 </font> </center>"
   ]
  },
  {
   "cell_type": "markdown",
   "id": "c573cc25",
   "metadata": {},
   "source": [
    "### Acknowledgements"
   ]
  },
  {
   "cell_type": "markdown",
   "id": "6b4d2a2f",
   "metadata": {},
   "source": [
    "This notebook is created based on the tutorial by Michel Bierlaire. The video can be found here: https://www.youtube.com/watch?v=dihn4djMaqw&t=485s. "
   ]
  },
  {
   "cell_type": "markdown",
   "id": "6937353b",
   "metadata": {},
   "source": [
    "### Imports"
   ]
  },
  {
   "cell_type": "code",
   "execution_count": 1,
   "id": "b3d2d3fa",
   "metadata": {},
   "outputs": [],
   "source": [
    "import numpy as np\n",
    "import time\n",
    "import math\n",
    "import scipy.stats"
   ]
  },
  {
   "cell_type": "markdown",
   "id": "e0e11dde",
   "metadata": {},
   "source": [
    "### Canonical example"
   ]
  },
  {
   "cell_type": "markdown",
   "id": "ab727c94",
   "metadata": {},
   "source": [
    "$$\\int_{0}^{1} e^{x} dx = [e^{x}]_{0}^{1} = e^{1} - e^{0} = 1.7182$$"
   ]
  },
  {
   "cell_type": "markdown",
   "id": "5393504a",
   "metadata": {},
   "source": [
    "We can estimate this integral by evaluating the integrand in the specified interval. We start by drawing samples from a uniform distribution [0, 1]."
   ]
  },
  {
   "cell_type": "code",
   "execution_count": 12,
   "id": "df571fbe",
   "metadata": {},
   "outputs": [],
   "source": [
    "samples = np.random.uniform(low=0.0, high=1.0, size=100)"
   ]
  },
  {
   "cell_type": "code",
   "execution_count": 13,
   "id": "6f8ec2a1",
   "metadata": {},
   "outputs": [
    {
     "data": {
      "text/plain": [
       "1.7461146198555986"
      ]
     },
     "execution_count": 13,
     "metadata": {},
     "output_type": "execute_result"
    }
   ],
   "source": [
    "np.mean(np.exp(samples))"
   ]
  },
  {
   "cell_type": "code",
   "execution_count": 14,
   "id": "a70d381c",
   "metadata": {},
   "outputs": [
    {
     "data": {
      "text/plain": [
       "0.2233918929869094"
      ]
     },
     "execution_count": 14,
     "metadata": {},
     "output_type": "execute_result"
    }
   ],
   "source": [
    "np.var(np.exp(samples))"
   ]
  },
  {
   "cell_type": "markdown",
   "id": "cb32c56c",
   "metadata": {},
   "source": [
    "### 1) Antithetic Variables"
   ]
  },
  {
   "cell_type": "markdown",
   "id": "f94635bb",
   "metadata": {},
   "source": [
    "Suppose we would like to estimate $\\mathbb{E}[h(X)] = \\theta$. Let $Y = h(X)$. If we can find two random variables such that $\\mathbb{E}[\\frac{Y_{1} + Y_{2}}{2}] = \\theta$, then we have an unbiased estimator."
   ]
  },
  {
   "cell_type": "markdown",
   "id": "ff9059af",
   "metadata": {},
   "source": [
    "\\begin{align}\n",
    "    \\mathbb{V}[\\frac{Y_{1} + Y_{2}}{2}] = \\frac{1}{4}\\mathbb{V}[Y_{1}] + \\frac{1}{4}\\mathbb{V}[Y_{2}] + 2 (\\frac{1}{2})^{2}COV[Y_{1}, Y_{2}]\n",
    "\\end{align}"
   ]
  },
  {
   "cell_type": "markdown",
   "id": "a787529c",
   "metadata": {},
   "source": [
    "Hence, if the covariance is negative, then we can reduce the variance."
   ]
  },
  {
   "cell_type": "markdown",
   "id": "efd2318c",
   "metadata": {},
   "source": [
    "Let $Y_{1} = U$ and $Y_{2} = 1 - U$. Clearly, both are uniformly distributed."
   ]
  },
  {
   "cell_type": "code",
   "execution_count": 15,
   "id": "e416230b",
   "metadata": {},
   "outputs": [
    {
     "data": {
      "text/plain": [
       "1.7142201720304988"
      ]
     },
     "execution_count": 15,
     "metadata": {},
     "output_type": "execute_result"
    }
   ],
   "source": [
    "np.mean((np.exp(samples) + np.exp(1 - samples))/2)"
   ]
  },
  {
   "cell_type": "code",
   "execution_count": 16,
   "id": "b8b235d9",
   "metadata": {},
   "outputs": [
    {
     "data": {
      "text/plain": [
       "0.004099152378562517"
      ]
     },
     "execution_count": 16,
     "metadata": {},
     "output_type": "execute_result"
    }
   ],
   "source": [
    "np.var((np.exp(samples) + np.exp(1 - samples))/2)"
   ]
  },
  {
   "cell_type": "code",
   "execution_count": null,
   "id": "5f08d380",
   "metadata": {},
   "outputs": [],
   "source": []
  }
 ],
 "metadata": {
  "kernelspec": {
   "display_name": "Python 3 (ipykernel)",
   "language": "python",
   "name": "python3"
  },
  "language_info": {
   "codemirror_mode": {
    "name": "ipython",
    "version": 3
   },
   "file_extension": ".py",
   "mimetype": "text/x-python",
   "name": "python",
   "nbconvert_exporter": "python",
   "pygments_lexer": "ipython3",
   "version": "3.9.12"
  }
 },
 "nbformat": 4,
 "nbformat_minor": 5
}
